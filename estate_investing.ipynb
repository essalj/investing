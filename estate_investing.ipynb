{
 "cells": [
  {
   "cell_type": "code",
   "execution_count": 1,
   "metadata": {},
   "outputs": [],
   "source": [
    "import os\n",
    "import sys\n",
    "\n",
    "import pandas as pd\n",
    "import numpy as np"
   ]
  },
  {
   "cell_type": "code",
   "execution_count": 2,
   "metadata": {},
   "outputs": [],
   "source": [
    "class estate:\n",
    "    def __init__(self, name='No Name', price=0,  cash=0, xp_owner_yy=0, xp_estate_tax_yy=0):\n",
    "\n",
    "        self.name = name\n",
    "        self.price = price\n",
    "        self.xp_owner_yy = xp_owner_yy\n",
    "        self.xp_estate_tax_yy = xp_estate_tax_yy\n",
    "\n",
    "        #self.mortgage = price\n",
    "        self.mortgage_pct = 2.484 #rente + bidrag\n",
    "        self.cash = cash\n",
    "        self.mortgage = self.price\n",
    "\n",
    "        self.sqm=0\n",
    "        self.rent_mm = 0\n",
    "        self.n_years = 30\n",
    "        self.tax_corp_pct = 22\n",
    "        self.tax_private_pct= 55.6\n",
    "\n",
    "        self.rent_up_pct = 3        # annual increase in rent\n",
    "        self.xp_up_pct = 2          # annual increase in expenses\n",
    "        self.maintenance_pct = 1    # percent of annual rent that is allocated for maintenance\n",
    "\n",
    "        self.downpay = 0\n",
    "\n",
    "\n",
    "\n",
    "    def pre_calc(self):\n",
    "        if self.cash==0: \n",
    "            self.cash = .2 * self.price\n",
    "        self.mortgage = self.price - self.cash\n",
    "       # return mortgage, cash\n",
    " \n",
    "\n",
    "    def income_rent(self):\n",
    "        rent_yy =[]\n",
    "        for n in range(self.n_years):\n",
    "            rent = 12 * self.rent_mm*(1 + self.rent_up_pct/100)**n \n",
    "            rent_yy.append(rent)\n",
    "        return rent_yy\n",
    "\n",
    "\n",
    "\n",
    "    def expenses(self):\n",
    "        xp_yy=[]\n",
    "        for n in range(self.n_years):\n",
    "            xp = (self.xp_owner_yy + self.xp_estate_tax_yy) * (1 + self.xp_up_pct/100)**n\n",
    "            xp_yy.append(xp)\n",
    "        return xp_yy\n",
    "\n",
    "\n",
    "   \n",
    "    def build_df(self):\n",
    "\n",
    "        #self.mortgage, self.cash = \n",
    "        self.pre_calc()\n",
    "        \n",
    "        df = pd.DataFrame()\n",
    "        yy = list(range(self.n_years))\n",
    "        self.income_rent_yy = self.income_rent()\n",
    "        self.expenses_yy = self.expenses()\n",
    "\n",
    "        df['year'] = yy\n",
    " \n",
    "        df['mortgage'] = self.mortgage\n",
    "        df['mortgage_interest'] = self.mortgage_pct*df['mortgage']/100\n",
    " \n",
    "        df['rent_yy'] = self.income_rent_yy\n",
    "        df['expenses_yy'] = self.expenses_yy\n",
    "        df['balance'] = df['rent_yy'] - df['expenses_yy']\n",
    "\n",
    "\n",
    "\n",
    "        #profit and tax\n",
    "        df['corp_profit'] = df['balance'] - df['mortgage_interest']\n",
    "        df['corp_income_tax'] = .01*self.tax_corp_pct *(df['corp_profit'])\n",
    "        df['corp_downpay'] = self.downpay\n",
    "\n",
    "\n",
    "        for v in df.columns:\n",
    "            df[v] = df[v].astype(int)\n",
    "        #display(df)\n",
    "        self.df = df\n",
    "        return self.df\n",
    "\n",
    "\n",
    "    def estate_overview(self):\n",
    "        print('navn: ' + self.name)\n",
    "        print('pris: ' + str(self.price))\n",
    "        \n",
    "\n",
    "        \n",
    "    \n",
    "\n",
    "    \n",
    "  \n",
    "\n",
    "    \n"
   ]
  },
  {
   "cell_type": "code",
   "execution_count": 3,
   "metadata": {},
   "outputs": [],
   "source": [
    "e1 = estate()\n",
    "e1.name = 'Egelykkeparken 25C'\n",
    "e1.price = 2195000\n",
    "e1.cash = 250000\n",
    "e1.xp_owner_yy = 17187 + 29\n",
    "e1.xp_estate_tax_yy = 4120\n",
    "e1.rent_mm = 10500\n",
    "\n",
    "e1_df = e1.build_df()"
   ]
  },
  {
   "cell_type": "code",
   "execution_count": 4,
   "metadata": {},
   "outputs": [
    {
     "data": {
      "text/html": [
       "<div>\n",
       "<style scoped>\n",
       "    .dataframe tbody tr th:only-of-type {\n",
       "        vertical-align: middle;\n",
       "    }\n",
       "\n",
       "    .dataframe tbody tr th {\n",
       "        vertical-align: top;\n",
       "    }\n",
       "\n",
       "    .dataframe thead th {\n",
       "        text-align: right;\n",
       "    }\n",
       "</style>\n",
       "<table border=\"1\" class=\"dataframe\">\n",
       "  <thead>\n",
       "    <tr style=\"text-align: right;\">\n",
       "      <th></th>\n",
       "      <th>year</th>\n",
       "      <th>mortgage</th>\n",
       "      <th>mortgage_interest</th>\n",
       "      <th>rent_yy</th>\n",
       "      <th>expenses_yy</th>\n",
       "      <th>balance</th>\n",
       "      <th>corp_profit</th>\n",
       "      <th>corp_income_tax</th>\n",
       "      <th>corp_downpay</th>\n",
       "    </tr>\n",
       "  </thead>\n",
       "  <tbody>\n",
       "    <tr>\n",
       "      <th>0</th>\n",
       "      <td>0</td>\n",
       "      <td>1945000</td>\n",
       "      <td>48313</td>\n",
       "      <td>126000</td>\n",
       "      <td>21336</td>\n",
       "      <td>104664</td>\n",
       "      <td>56350</td>\n",
       "      <td>12397</td>\n",
       "      <td>0</td>\n",
       "    </tr>\n",
       "    <tr>\n",
       "      <th>1</th>\n",
       "      <td>1</td>\n",
       "      <td>1945000</td>\n",
       "      <td>48313</td>\n",
       "      <td>129780</td>\n",
       "      <td>21762</td>\n",
       "      <td>108017</td>\n",
       "      <td>59703</td>\n",
       "      <td>13134</td>\n",
       "      <td>0</td>\n",
       "    </tr>\n",
       "  </tbody>\n",
       "</table>\n",
       "</div>"
      ],
      "text/plain": [
       "   year  mortgage  mortgage_interest  rent_yy  expenses_yy  balance  \\\n",
       "0     0   1945000              48313   126000        21336   104664   \n",
       "1     1   1945000              48313   129780        21762   108017   \n",
       "\n",
       "   corp_profit  corp_income_tax  corp_downpay  \n",
       "0        56350            12397             0  \n",
       "1        59703            13134             0  "
      ]
     },
     "execution_count": 4,
     "metadata": {},
     "output_type": "execute_result"
    }
   ],
   "source": [
    "e1_df[:2]"
   ]
  },
  {
   "cell_type": "code",
   "execution_count": 8,
   "metadata": {},
   "outputs": [],
   "source": [
    "e1_df.to_excel('e1.xlsx')\n"
   ]
  },
  {
   "cell_type": "code",
   "execution_count": 6,
   "metadata": {
    "tags": []
   },
   "outputs": [
    {
     "name": "stdout",
     "output_type": "stream",
     "text": [
      "navn: Egelykkeparken 25C\n",
      "pris: 2195000\n"
     ]
    }
   ],
   "source": [
    "e1.estate_overview()"
   ]
  },
  {
   "cell_type": "code",
   "execution_count": 7,
   "metadata": {},
   "outputs": [
    {
     "ename": "AttributeError",
     "evalue": "'estate' object has no attribute 'overview'",
     "output_type": "error",
     "traceback": [
      "\u001b[1;31m---------------------------------------------------------------------------\u001b[0m",
      "\u001b[1;31mAttributeError\u001b[0m                            Traceback (most recent call last)",
      "\u001b[1;32m<ipython-input-7-2b5fac04e328>\u001b[0m in \u001b[0;36m<module>\u001b[1;34m\u001b[0m\n\u001b[1;32m----> 1\u001b[1;33m \u001b[0mst\u001b[0m\u001b[1;33m=\u001b[0m\u001b[0me1\u001b[0m\u001b[1;33m.\u001b[0m\u001b[0moverview\u001b[0m\u001b[1;33m\u001b[0m\u001b[1;33m\u001b[0m\u001b[0m\n\u001b[0m",
      "\u001b[1;31mAttributeError\u001b[0m: 'estate' object has no attribute 'overview'"
     ]
    }
   ],
   "source": []
  },
  {
   "cell_type": "code",
   "execution_count": 27,
   "metadata": {},
   "outputs": [
    {
     "data": {
      "text/plain": [
       "{'navn': 'Egelykkeparken 25C', 'pris': 2195000}"
      ]
     },
     "metadata": {},
     "output_type": "display_data"
    }
   ],
   "source": [
    "display(st)"
   ]
  },
  {
   "cell_type": "code",
   "execution_count": null,
   "metadata": {},
   "outputs": [],
   "source": []
  }
 ],
 "metadata": {
  "kernelspec": {
   "display_name": "Python 3.7.3 64-bit ('Anaconda3': virtualenv)",
   "language": "python",
   "name": "python37364bitanaconda3virtualenvd383db4f10d14ef39e3021c5116e1cf9"
  },
  "language_info": {
   "codemirror_mode": {
    "name": "ipython",
    "version": 3
   },
   "file_extension": ".py",
   "mimetype": "text/x-python",
   "name": "python",
   "nbconvert_exporter": "python",
   "pygments_lexer": "ipython3",
   "version": "3.7.3"
  }
 },
 "nbformat": 4,
 "nbformat_minor": 2
}
