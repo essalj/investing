{
 "cells": [
  {
   "cell_type": "code",
   "execution_count": 1,
   "metadata": {},
   "outputs": [],
   "source": [
    "import os\n",
    "import sys\n",
    "\n",
    "import pandas as pd\n",
    "import numpy as np"
   ]
  },
  {
   "cell_type": "code",
   "execution_count": 141,
   "metadata": {},
   "outputs": [],
   "source": [
    "class estate:\n",
    "    def __init__(self, name='No Name', price=0, xp_owner_yy=0, xp_estate_tax_yy=0):\n",
    "\n",
    "        self.name = name\n",
    "        self.price = price\n",
    "        self.xp_owner_yy = xp_owner_yy\n",
    "        self.xp_estate_tax_yy = xp_estate_tax_yy\n",
    "\n",
    "        #self.mortgage = price\n",
    "        self.mortgage_pct = 2\n",
    "\n",
    "        self.sqm=0\n",
    "        self.rent_mm = 0\n",
    "        self.n_years = 30\n",
    "        self.tax_corp_pct = 22\n",
    "        self.tax_private_pct= 55\n",
    "        self.tax_deduct_interest_priv_pct = 33\n",
    "\n",
    "        self.rent_up_pct = 2        # annual increase in expenses\n",
    "        self.xp_up_pct = 2          # annual increase in expenses\n",
    "        self.maintenance_pct = 1    # percent of annual rent that is allocated for maintenance\n",
    "\n",
    " \n",
    "    def income_rent(self):\n",
    "        rent_yy =[]\n",
    "        for n in range(self.n_years):\n",
    "            rent = 12 * self.rent_mm*(1 + self.rent_up_pct/100)**n \n",
    "            rent_yy.append(rent)\n",
    "        return rent_yy\n",
    "\n",
    "\n",
    "    def expenses(self):\n",
    "        xp_yy=[]\n",
    "        for n in range(self.n_years):\n",
    "            xp = (self.xp_owner_yy + self.xp_estate_tax_yy) * (1 + self.xp_up_pct/100)**n\n",
    "            xp_yy.append(xp)\n",
    "        return xp_yy\n",
    "        '''\n",
    "    def mortgage(self):\n",
    "        self.mortgage = []\n",
    "        self.mortgage_interest = []\n",
    "\n",
    "        for n in range(self.n_years):\n",
    "            mg_\n",
    "        '''\n",
    "   \n",
    "    def build_df(self):\n",
    "        df = pd.DataFrame()\n",
    "        yy = list(range(self.n_years))\n",
    "        self.income_rent_yy = self.income_rent()\n",
    "        self.expenses_yy = self.expenses()\n",
    "\n",
    "        df['year'] = yy\n",
    "        df['rent_yy'] = self.income_rent_yy\n",
    "        df['expenses_yy'] = self.expenses_yy\n",
    "\n",
    "        df['mortgage'] = self.price\n",
    "        df['mortgage_interest'] = self.mortgage_pct*df['mortgage']/100\n",
    "\n",
    "        #df['running_'] = df['rent_yy']  - df['expenses_yy'] # - df['mortgage_interest']*(1-self.tax_deduct_interest_priv_pct/100) \n",
    "        \n",
    "        #df['profit_private'] \n",
    "        #df['profit_corp_yy'] = df['rent_yy']  - df['expenses_yy'] - df['mortgage_interest']\n",
    "\n",
    "\n",
    "        df['profi_private_tax']\n",
    "\n",
    "\n",
    "        #        tax_corp = (income - expenses)*self.tax_corp_pct\n",
    "        #self.df=df\n",
    "        display(df)\n",
    "        self.df = df\n",
    "\n",
    "    \n",
    "\n",
    "    def test(self):\n",
    "        rt = self.income_rent()\n",
    "        display(rt)\n",
    "    \n",
    "\n",
    "\n",
    "    \n",
    "\n",
    "    \n"
   ]
  },
  {
   "cell_type": "code",
   "execution_count": 142,
   "metadata": {},
   "outputs": [],
   "source": [
    "e1 = estate()\n",
    "e1.name = 'Egelykkeparken 25C'\n",
    "e1.price = 2195000\n",
    "e1.xp_owner_yy = 17187 + 29\n",
    "e1.xp_estate_tax_yy = 4120\n",
    "e1.rent_mm = 10500\n",
    "\n"
   ]
  },
  {
   "cell_type": "code",
   "execution_count": 143,
   "metadata": {},
   "outputs": [
    {
     "output_type": "display_data",
     "data": {
      "text/plain": "    year        rent_yy   expenses_yy  mortgage  mortgage_interest  \\\n0      0  126000.000000  21336.000000   2195000            43900.0   \n1      1  128520.000000  21762.720000   2195000            43900.0   \n2      2  131090.400000  22197.974400   2195000            43900.0   \n3      3  133712.208000  22641.933888   2195000            43900.0   \n4      4  136386.452160  23094.772566   2195000            43900.0   \n5      5  139114.181203  23556.668017   2195000            43900.0   \n6      6  141896.464827  24027.801377   2195000            43900.0   \n7      7  144734.394124  24508.357405   2195000            43900.0   \n8      8  147629.082006  24998.524553   2195000            43900.0   \n9      9  150581.663646  25498.495044   2195000            43900.0   \n10    10  153593.296919  26008.464945   2195000            43900.0   \n11    11  156665.162858  26528.634244   2195000            43900.0   \n12    12  159798.466115  27059.206929   2195000            43900.0   \n13    13  162994.435437  27600.391067   2195000            43900.0   \n14    14  166254.324146  28152.398889   2195000            43900.0   \n15    15  169579.410629  28715.446866   2195000            43900.0   \n16    16  172970.998841  29289.755804   2195000            43900.0   \n17    17  176430.418818  29875.550920   2195000            43900.0   \n18    18  179959.027195  30473.061938   2195000            43900.0   \n19    19  183558.207739  31082.523177   2195000            43900.0   \n20    20  187229.371893  31704.173641   2195000            43900.0   \n21    21  190973.959331  32338.257113   2195000            43900.0   \n22    22  194793.438518  32985.022256   2195000            43900.0   \n23    23  198689.307288  33644.722701   2195000            43900.0   \n24    24  202663.093434  34317.617155   2195000            43900.0   \n25    25  206716.355303  35003.969498   2195000            43900.0   \n26    26  210850.682409  35704.048888   2195000            43900.0   \n27    27  215067.696057  36418.129866   2195000            43900.0   \n28    28  219369.049978  37146.492463   2195000            43900.0   \n29    29  223756.430977  37889.422312   2195000            43900.0   \n\n    profit_priv_yy  profit_corp_yy  \n0     75251.000000    60764.000000  \n1     77344.280000    62857.280000  \n2     79479.425600    64992.425600  \n3     81657.274112    67170.274112  \n4     83878.679594    69391.679594  \n5     86144.513186    71657.513186  \n6     88455.663450    73968.663450  \n7     90813.036719    76326.036719  \n8     93217.557453    78730.557453  \n9     95670.168602    81183.168602  \n10    98171.831974    83684.831974  \n11   100723.528614    86236.528614  \n12   103326.259186    88839.259186  \n13   105981.044370    91494.044370  \n14   108688.925257    94201.925257  \n15   111450.963762    96963.963762  \n16   114268.243038    99781.243038  \n17   117141.867898   102654.867898  \n18   120072.965256   105585.965256  \n19   123062.684561   108575.684561  \n20   126112.198253   111625.198253  \n21   129222.702218   114735.702218  \n22   132395.416262   117908.416262  \n23   135631.584587   121144.584587  \n24   138932.476279   124445.476279  \n25   142299.385805   127812.385805  \n26   145733.633521   131246.633521  \n27   149236.566191   134749.566191  \n28   152809.557515   138322.557515  \n29   156454.008665   141967.008665  ",
      "text/html": "<div>\n<style scoped>\n    .dataframe tbody tr th:only-of-type {\n        vertical-align: middle;\n    }\n\n    .dataframe tbody tr th {\n        vertical-align: top;\n    }\n\n    .dataframe thead th {\n        text-align: right;\n    }\n</style>\n<table border=\"1\" class=\"dataframe\">\n  <thead>\n    <tr style=\"text-align: right;\">\n      <th></th>\n      <th>year</th>\n      <th>rent_yy</th>\n      <th>expenses_yy</th>\n      <th>mortgage</th>\n      <th>mortgage_interest</th>\n      <th>profit_priv_yy</th>\n      <th>profit_corp_yy</th>\n    </tr>\n  </thead>\n  <tbody>\n    <tr>\n      <th>0</th>\n      <td>0</td>\n      <td>126000.000000</td>\n      <td>21336.000000</td>\n      <td>2195000</td>\n      <td>43900.0</td>\n      <td>75251.000000</td>\n      <td>60764.000000</td>\n    </tr>\n    <tr>\n      <th>1</th>\n      <td>1</td>\n      <td>128520.000000</td>\n      <td>21762.720000</td>\n      <td>2195000</td>\n      <td>43900.0</td>\n      <td>77344.280000</td>\n      <td>62857.280000</td>\n    </tr>\n    <tr>\n      <th>2</th>\n      <td>2</td>\n      <td>131090.400000</td>\n      <td>22197.974400</td>\n      <td>2195000</td>\n      <td>43900.0</td>\n      <td>79479.425600</td>\n      <td>64992.425600</td>\n    </tr>\n    <tr>\n      <th>3</th>\n      <td>3</td>\n      <td>133712.208000</td>\n      <td>22641.933888</td>\n      <td>2195000</td>\n      <td>43900.0</td>\n      <td>81657.274112</td>\n      <td>67170.274112</td>\n    </tr>\n    <tr>\n      <th>4</th>\n      <td>4</td>\n      <td>136386.452160</td>\n      <td>23094.772566</td>\n      <td>2195000</td>\n      <td>43900.0</td>\n      <td>83878.679594</td>\n      <td>69391.679594</td>\n    </tr>\n    <tr>\n      <th>5</th>\n      <td>5</td>\n      <td>139114.181203</td>\n      <td>23556.668017</td>\n      <td>2195000</td>\n      <td>43900.0</td>\n      <td>86144.513186</td>\n      <td>71657.513186</td>\n    </tr>\n    <tr>\n      <th>6</th>\n      <td>6</td>\n      <td>141896.464827</td>\n      <td>24027.801377</td>\n      <td>2195000</td>\n      <td>43900.0</td>\n      <td>88455.663450</td>\n      <td>73968.663450</td>\n    </tr>\n    <tr>\n      <th>7</th>\n      <td>7</td>\n      <td>144734.394124</td>\n      <td>24508.357405</td>\n      <td>2195000</td>\n      <td>43900.0</td>\n      <td>90813.036719</td>\n      <td>76326.036719</td>\n    </tr>\n    <tr>\n      <th>8</th>\n      <td>8</td>\n      <td>147629.082006</td>\n      <td>24998.524553</td>\n      <td>2195000</td>\n      <td>43900.0</td>\n      <td>93217.557453</td>\n      <td>78730.557453</td>\n    </tr>\n    <tr>\n      <th>9</th>\n      <td>9</td>\n      <td>150581.663646</td>\n      <td>25498.495044</td>\n      <td>2195000</td>\n      <td>43900.0</td>\n      <td>95670.168602</td>\n      <td>81183.168602</td>\n    </tr>\n    <tr>\n      <th>10</th>\n      <td>10</td>\n      <td>153593.296919</td>\n      <td>26008.464945</td>\n      <td>2195000</td>\n      <td>43900.0</td>\n      <td>98171.831974</td>\n      <td>83684.831974</td>\n    </tr>\n    <tr>\n      <th>11</th>\n      <td>11</td>\n      <td>156665.162858</td>\n      <td>26528.634244</td>\n      <td>2195000</td>\n      <td>43900.0</td>\n      <td>100723.528614</td>\n      <td>86236.528614</td>\n    </tr>\n    <tr>\n      <th>12</th>\n      <td>12</td>\n      <td>159798.466115</td>\n      <td>27059.206929</td>\n      <td>2195000</td>\n      <td>43900.0</td>\n      <td>103326.259186</td>\n      <td>88839.259186</td>\n    </tr>\n    <tr>\n      <th>13</th>\n      <td>13</td>\n      <td>162994.435437</td>\n      <td>27600.391067</td>\n      <td>2195000</td>\n      <td>43900.0</td>\n      <td>105981.044370</td>\n      <td>91494.044370</td>\n    </tr>\n    <tr>\n      <th>14</th>\n      <td>14</td>\n      <td>166254.324146</td>\n      <td>28152.398889</td>\n      <td>2195000</td>\n      <td>43900.0</td>\n      <td>108688.925257</td>\n      <td>94201.925257</td>\n    </tr>\n    <tr>\n      <th>15</th>\n      <td>15</td>\n      <td>169579.410629</td>\n      <td>28715.446866</td>\n      <td>2195000</td>\n      <td>43900.0</td>\n      <td>111450.963762</td>\n      <td>96963.963762</td>\n    </tr>\n    <tr>\n      <th>16</th>\n      <td>16</td>\n      <td>172970.998841</td>\n      <td>29289.755804</td>\n      <td>2195000</td>\n      <td>43900.0</td>\n      <td>114268.243038</td>\n      <td>99781.243038</td>\n    </tr>\n    <tr>\n      <th>17</th>\n      <td>17</td>\n      <td>176430.418818</td>\n      <td>29875.550920</td>\n      <td>2195000</td>\n      <td>43900.0</td>\n      <td>117141.867898</td>\n      <td>102654.867898</td>\n    </tr>\n    <tr>\n      <th>18</th>\n      <td>18</td>\n      <td>179959.027195</td>\n      <td>30473.061938</td>\n      <td>2195000</td>\n      <td>43900.0</td>\n      <td>120072.965256</td>\n      <td>105585.965256</td>\n    </tr>\n    <tr>\n      <th>19</th>\n      <td>19</td>\n      <td>183558.207739</td>\n      <td>31082.523177</td>\n      <td>2195000</td>\n      <td>43900.0</td>\n      <td>123062.684561</td>\n      <td>108575.684561</td>\n    </tr>\n    <tr>\n      <th>20</th>\n      <td>20</td>\n      <td>187229.371893</td>\n      <td>31704.173641</td>\n      <td>2195000</td>\n      <td>43900.0</td>\n      <td>126112.198253</td>\n      <td>111625.198253</td>\n    </tr>\n    <tr>\n      <th>21</th>\n      <td>21</td>\n      <td>190973.959331</td>\n      <td>32338.257113</td>\n      <td>2195000</td>\n      <td>43900.0</td>\n      <td>129222.702218</td>\n      <td>114735.702218</td>\n    </tr>\n    <tr>\n      <th>22</th>\n      <td>22</td>\n      <td>194793.438518</td>\n      <td>32985.022256</td>\n      <td>2195000</td>\n      <td>43900.0</td>\n      <td>132395.416262</td>\n      <td>117908.416262</td>\n    </tr>\n    <tr>\n      <th>23</th>\n      <td>23</td>\n      <td>198689.307288</td>\n      <td>33644.722701</td>\n      <td>2195000</td>\n      <td>43900.0</td>\n      <td>135631.584587</td>\n      <td>121144.584587</td>\n    </tr>\n    <tr>\n      <th>24</th>\n      <td>24</td>\n      <td>202663.093434</td>\n      <td>34317.617155</td>\n      <td>2195000</td>\n      <td>43900.0</td>\n      <td>138932.476279</td>\n      <td>124445.476279</td>\n    </tr>\n    <tr>\n      <th>25</th>\n      <td>25</td>\n      <td>206716.355303</td>\n      <td>35003.969498</td>\n      <td>2195000</td>\n      <td>43900.0</td>\n      <td>142299.385805</td>\n      <td>127812.385805</td>\n    </tr>\n    <tr>\n      <th>26</th>\n      <td>26</td>\n      <td>210850.682409</td>\n      <td>35704.048888</td>\n      <td>2195000</td>\n      <td>43900.0</td>\n      <td>145733.633521</td>\n      <td>131246.633521</td>\n    </tr>\n    <tr>\n      <th>27</th>\n      <td>27</td>\n      <td>215067.696057</td>\n      <td>36418.129866</td>\n      <td>2195000</td>\n      <td>43900.0</td>\n      <td>149236.566191</td>\n      <td>134749.566191</td>\n    </tr>\n    <tr>\n      <th>28</th>\n      <td>28</td>\n      <td>219369.049978</td>\n      <td>37146.492463</td>\n      <td>2195000</td>\n      <td>43900.0</td>\n      <td>152809.557515</td>\n      <td>138322.557515</td>\n    </tr>\n    <tr>\n      <th>29</th>\n      <td>29</td>\n      <td>223756.430977</td>\n      <td>37889.422312</td>\n      <td>2195000</td>\n      <td>43900.0</td>\n      <td>156454.008665</td>\n      <td>141967.008665</td>\n    </tr>\n  </tbody>\n</table>\n</div>"
     },
     "metadata": {}
    }
   ],
   "source": [
    "e1.build_df()"
   ]
  },
  {
   "cell_type": "code",
   "execution_count": 88,
   "metadata": {},
   "outputs": [
    {
     "output_type": "execute_result",
     "data": {
      "text/plain": "    year        rent_yy   expenses_yy\n0      0  126000.000000  21336.000000\n1      1  128520.000000  21762.720000\n2      2  131090.400000  22197.974400\n3      3  133712.208000  22641.933888\n4      4  136386.452160  23094.772566\n5      5  139114.181203  23556.668017\n6      6  141896.464827  24027.801377\n7      7  144734.394124  24508.357405\n8      8  147629.082006  24998.524553\n9      9  150581.663646  25498.495044\n10    10  153593.296919  26008.464945\n11    11  156665.162858  26528.634244\n12    12  159798.466115  27059.206929\n13    13  162994.435437  27600.391067\n14    14  166254.324146  28152.398889\n15    15  169579.410629  28715.446866\n16    16  172970.998841  29289.755804\n17    17  176430.418818  29875.550920\n18    18  179959.027195  30473.061938\n19    19  183558.207739  31082.523177\n20    20  187229.371893  31704.173641\n21    21  190973.959331  32338.257113\n22    22  194793.438518  32985.022256\n23    23  198689.307288  33644.722701\n24    24  202663.093434  34317.617155\n25    25  206716.355303  35003.969498\n26    26  210850.682409  35704.048888\n27    27  215067.696057  36418.129866\n28    28  219369.049978  37146.492463\n29    29  223756.430977  37889.422312",
      "text/html": "<div>\n<style scoped>\n    .dataframe tbody tr th:only-of-type {\n        vertical-align: middle;\n    }\n\n    .dataframe tbody tr th {\n        vertical-align: top;\n    }\n\n    .dataframe thead th {\n        text-align: right;\n    }\n</style>\n<table border=\"1\" class=\"dataframe\">\n  <thead>\n    <tr style=\"text-align: right;\">\n      <th></th>\n      <th>year</th>\n      <th>rent_yy</th>\n      <th>expenses_yy</th>\n    </tr>\n  </thead>\n  <tbody>\n    <tr>\n      <th>0</th>\n      <td>0</td>\n      <td>126000.000000</td>\n      <td>21336.000000</td>\n    </tr>\n    <tr>\n      <th>1</th>\n      <td>1</td>\n      <td>128520.000000</td>\n      <td>21762.720000</td>\n    </tr>\n    <tr>\n      <th>2</th>\n      <td>2</td>\n      <td>131090.400000</td>\n      <td>22197.974400</td>\n    </tr>\n    <tr>\n      <th>3</th>\n      <td>3</td>\n      <td>133712.208000</td>\n      <td>22641.933888</td>\n    </tr>\n    <tr>\n      <th>4</th>\n      <td>4</td>\n      <td>136386.452160</td>\n      <td>23094.772566</td>\n    </tr>\n    <tr>\n      <th>5</th>\n      <td>5</td>\n      <td>139114.181203</td>\n      <td>23556.668017</td>\n    </tr>\n    <tr>\n      <th>6</th>\n      <td>6</td>\n      <td>141896.464827</td>\n      <td>24027.801377</td>\n    </tr>\n    <tr>\n      <th>7</th>\n      <td>7</td>\n      <td>144734.394124</td>\n      <td>24508.357405</td>\n    </tr>\n    <tr>\n      <th>8</th>\n      <td>8</td>\n      <td>147629.082006</td>\n      <td>24998.524553</td>\n    </tr>\n    <tr>\n      <th>9</th>\n      <td>9</td>\n      <td>150581.663646</td>\n      <td>25498.495044</td>\n    </tr>\n    <tr>\n      <th>10</th>\n      <td>10</td>\n      <td>153593.296919</td>\n      <td>26008.464945</td>\n    </tr>\n    <tr>\n      <th>11</th>\n      <td>11</td>\n      <td>156665.162858</td>\n      <td>26528.634244</td>\n    </tr>\n    <tr>\n      <th>12</th>\n      <td>12</td>\n      <td>159798.466115</td>\n      <td>27059.206929</td>\n    </tr>\n    <tr>\n      <th>13</th>\n      <td>13</td>\n      <td>162994.435437</td>\n      <td>27600.391067</td>\n    </tr>\n    <tr>\n      <th>14</th>\n      <td>14</td>\n      <td>166254.324146</td>\n      <td>28152.398889</td>\n    </tr>\n    <tr>\n      <th>15</th>\n      <td>15</td>\n      <td>169579.410629</td>\n      <td>28715.446866</td>\n    </tr>\n    <tr>\n      <th>16</th>\n      <td>16</td>\n      <td>172970.998841</td>\n      <td>29289.755804</td>\n    </tr>\n    <tr>\n      <th>17</th>\n      <td>17</td>\n      <td>176430.418818</td>\n      <td>29875.550920</td>\n    </tr>\n    <tr>\n      <th>18</th>\n      <td>18</td>\n      <td>179959.027195</td>\n      <td>30473.061938</td>\n    </tr>\n    <tr>\n      <th>19</th>\n      <td>19</td>\n      <td>183558.207739</td>\n      <td>31082.523177</td>\n    </tr>\n    <tr>\n      <th>20</th>\n      <td>20</td>\n      <td>187229.371893</td>\n      <td>31704.173641</td>\n    </tr>\n    <tr>\n      <th>21</th>\n      <td>21</td>\n      <td>190973.959331</td>\n      <td>32338.257113</td>\n    </tr>\n    <tr>\n      <th>22</th>\n      <td>22</td>\n      <td>194793.438518</td>\n      <td>32985.022256</td>\n    </tr>\n    <tr>\n      <th>23</th>\n      <td>23</td>\n      <td>198689.307288</td>\n      <td>33644.722701</td>\n    </tr>\n    <tr>\n      <th>24</th>\n      <td>24</td>\n      <td>202663.093434</td>\n      <td>34317.617155</td>\n    </tr>\n    <tr>\n      <th>25</th>\n      <td>25</td>\n      <td>206716.355303</td>\n      <td>35003.969498</td>\n    </tr>\n    <tr>\n      <th>26</th>\n      <td>26</td>\n      <td>210850.682409</td>\n      <td>35704.048888</td>\n    </tr>\n    <tr>\n      <th>27</th>\n      <td>27</td>\n      <td>215067.696057</td>\n      <td>36418.129866</td>\n    </tr>\n    <tr>\n      <th>28</th>\n      <td>28</td>\n      <td>219369.049978</td>\n      <td>37146.492463</td>\n    </tr>\n    <tr>\n      <th>29</th>\n      <td>29</td>\n      <td>223756.430977</td>\n      <td>37889.422312</td>\n    </tr>\n  </tbody>\n</table>\n</div>"
     },
     "metadata": {},
     "execution_count": 88
    }
   ],
   "source": [
    "e1.df"
   ]
  },
  {
   "cell_type": "code",
   "execution_count": null,
   "metadata": {},
   "outputs": [],
   "source": []
  }
 ],
 "metadata": {
  "language_info": {
   "codemirror_mode": {
    "name": "ipython",
    "version": 3
   },
   "file_extension": ".py",
   "mimetype": "text/x-python",
   "name": "python",
   "nbconvert_exporter": "python",
   "pygments_lexer": "ipython3",
   "version": 3
  },
  "orig_nbformat": 2,
  "kernelspec": {
   "name": "python_defaultSpec_1599165542551",
   "display_name": "Python 3.7.6 64-bit ('py37': conda)"
  }
 },
 "nbformat": 4,
 "nbformat_minor": 2
}