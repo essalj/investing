{
 "cells": [
  {
   "cell_type": "code",
   "execution_count": 82,
   "metadata": {},
   "outputs": [],
   "source": [
    "import os\n",
    "import sys\n",
    "\n",
    "import pandas as pd\n",
    "import numpy as np"
   ]
  },
  {
   "cell_type": "code",
   "execution_count": 89,
   "metadata": {},
   "outputs": [],
   "source": [
    "class estate:\n",
    "    def __init__(self, name='No Name', price=0,  cash=0, xp_owner_yy=0, xp_estate_tax_yy=0):\n",
    "\n",
    "        self.name = name\n",
    "        self.price = price\n",
    "        self.xp_owner_yy = xp_owner_yy\n",
    "        self.xp_estate_tax_yy = xp_estate_tax_yy\n",
    "\n",
    "        #self.mortgage = price\n",
    "        self.mortgage_pct = 2.484 #rente + bidrag\n",
    "        self.cash = cash\n",
    "        self.mortgage = self.price\n",
    "\n",
    "        self.sqm=0\n",
    "        self.rent_mm = 0\n",
    "        self.n_years = 30\n",
    "        self.tax_corp_pct = 22\n",
    "        self.tax_private_pct= 55.6\n",
    "\n",
    "        self.rent_up_pct = 3        # annual increase in rent\n",
    "        self.xp_up_pct = 2          # annual increase in expenses\n",
    "        self.maintenance_pct = 1    # percent of annual rent that is allocated for maintenance\n",
    "\n",
    "        self.downpay = 0\n",
    "\n",
    "\n",
    "\n",
    "    def pre_calc(self):\n",
    "        if self.cash==0: \n",
    "            self.cash = .2 * self.price\n",
    "        self.mortgage = self.price - self.cash\n",
    "       # return mortgage, cash\n",
    " \n",
    "\n",
    "    def income_rent(self):\n",
    "        rent_yy =[]\n",
    "        for n in range(self.n_years):\n",
    "            rent = 12 * self.rent_mm*(1 + self.rent_up_pct/100)**n \n",
    "            rent_yy.append(rent)\n",
    "        return rent_yy\n",
    "\n",
    "\n",
    "\n",
    "    def expenses(self):\n",
    "        xp_yy=[]\n",
    "        for n in range(self.n_years):\n",
    "            xp = (self.xp_owner_yy + self.xp_estate_tax_yy) * (1 + self.xp_up_pct/100)**n\n",
    "            xp_yy.append(xp)\n",
    "        return xp_yy\n",
    "\n",
    "\n",
    "   \n",
    "    def build_df(self):\n",
    "\n",
    "        #self.mortgage, self.cash = \n",
    "        self.pre_calc()\n",
    "        \n",
    "        df = pd.DataFrame()\n",
    "        yy = list(range(self.n_years))\n",
    "        self.income_rent_yy = self.income_rent()\n",
    "        self.expenses_yy = self.expenses()\n",
    "\n",
    "        df['year'] = yy\n",
    " \n",
    "        df['mortgage'] = self.mortgage\n",
    "        df['mortgage_interest'] = self.mortgage_pct*df['mortgage']/100\n",
    " \n",
    "        df['rent_yy'] = self.income_rent_yy\n",
    "        df['expenses_yy'] = self.expenses_yy\n",
    "        df['balance'] = df['rent_yy'] - df['expenses_yy']\n",
    "\n",
    "\n",
    "\n",
    "        #profit and tax\n",
    "        df['corp_profit'] = df['balance'] - df['mortgage_interest']\n",
    "        df['corp_income_tax'] = .01*self.tax_corp_pct *(df['corp_profit'])\n",
    "        df['corp_downpay'] = self.downpay\n",
    "\n",
    "\n",
    "        for v in df.columns:\n",
    "            df[v] = df[v].astype(int)\n",
    "        #display(df)\n",
    "        self.df = df\n",
    "        return self.df\n",
    "\n",
    "\n",
    "    def estate_overview(self):\n",
    "        print('navn: ' + self.name)\n",
    "        print('pris: ' + str(self.price))\n",
    "        \n",
    "\n",
    "        \n",
    "    \n",
    "\n",
    "    \n",
    "  \n",
    "\n",
    "    \n"
   ]
  },
  {
   "cell_type": "code",
   "execution_count": 90,
   "metadata": {},
   "outputs": [],
   "source": [
    "e1 = estate()\n",
    "e1.name = 'Egelykkeparken 25C'\n",
    "e1.price = 2195000\n",
    "e1.cash = 250000\n",
    "e1.xp_owner_yy = 17187 + 29\n",
    "e1.xp_estate_tax_yy = 4120\n",
    "e1.rent_mm = 10500\n",
    "\n",
    "e1_df = e1.build_df()"
   ]
  },
  {
   "cell_type": "code",
   "execution_count": 91,
   "metadata": {},
   "outputs": [
    {
     "output_type": "execute_result",
     "data": {
      "text/plain": "   year  mortgage  mortgage_interest  rent_yy  expenses_yy  balance  \\\n0     0   1945000              48313   126000        21336   104664   \n1     1   1945000              48313   129780        21762   108017   \n\n   corp_profit  corp_income_tax  corp_downpay  \n0        56350            12397             0  \n1        59703            13134             0  ",
      "text/html": "<div>\n<style scoped>\n    .dataframe tbody tr th:only-of-type {\n        vertical-align: middle;\n    }\n\n    .dataframe tbody tr th {\n        vertical-align: top;\n    }\n\n    .dataframe thead th {\n        text-align: right;\n    }\n</style>\n<table border=\"1\" class=\"dataframe\">\n  <thead>\n    <tr style=\"text-align: right;\">\n      <th></th>\n      <th>year</th>\n      <th>mortgage</th>\n      <th>mortgage_interest</th>\n      <th>rent_yy</th>\n      <th>expenses_yy</th>\n      <th>balance</th>\n      <th>corp_profit</th>\n      <th>corp_income_tax</th>\n      <th>corp_downpay</th>\n    </tr>\n  </thead>\n  <tbody>\n    <tr>\n      <th>0</th>\n      <td>0</td>\n      <td>1945000</td>\n      <td>48313</td>\n      <td>126000</td>\n      <td>21336</td>\n      <td>104664</td>\n      <td>56350</td>\n      <td>12397</td>\n      <td>0</td>\n    </tr>\n    <tr>\n      <th>1</th>\n      <td>1</td>\n      <td>1945000</td>\n      <td>48313</td>\n      <td>129780</td>\n      <td>21762</td>\n      <td>108017</td>\n      <td>59703</td>\n      <td>13134</td>\n      <td>0</td>\n    </tr>\n  </tbody>\n</table>\n</div>"
     },
     "metadata": {},
     "execution_count": 91
    }
   ],
   "source": [
    "e1_df[:2]"
   ]
  },
  {
   "cell_type": "code",
   "execution_count": 92,
   "metadata": {},
   "outputs": [
    {
     "output_type": "execute_result",
     "data": {
      "text/plain": "    year  mortgage  mortgage_interest  rent_yy  expenses_yy  balance  \\\n0      0   1945000              48313   126000        21336   104664   \n1      1   1945000              48313   129780        21762   108017   \n2      2   1945000              48313   133673        22197   111475   \n3      3   1945000              48313   137683        22641   115041   \n4      4   1945000              48313   141814        23094   118719   \n5      5   1945000              48313   146068        23556   122511   \n6      6   1945000              48313   150450        24027   126422   \n7      7   1945000              48313   154964        24508   130455   \n8      8   1945000              48313   159613        24998   134614   \n9      9   1945000              48313   164401        25498   138902   \n10    10   1945000              48313   169333        26008   143324   \n11    11   1945000              48313   174413        26528   147884   \n12    12   1945000              48313   179645        27059   152586   \n13    13   1945000              48313   185035        27600   157434   \n14    14   1945000              48313   190586        28152   162433   \n15    15   1945000              48313   196303        28715   167588   \n16    16   1945000              48313   202193        29289   172903   \n17    17   1945000              48313   208258        29875   178383   \n18    18   1945000              48313   214506        30473   184033   \n19    19   1945000              48313   220941        31082   189859   \n20    20   1945000              48313   227570        31704   195865   \n21    21   1945000              48313   234397        32338   202058   \n22    22   1945000              48313   241429        32985   208444   \n23    23   1945000              48313   248671        33644   215027   \n24    24   1945000              48313   256132        34317   221814   \n25    25   1945000              48313   263816        35003   228812   \n26    26   1945000              48313   271730        35704   236026   \n27    27   1945000              48313   279882        36418   243464   \n28    28   1945000              48313   288278        37146   251132   \n29    29   1945000              48313   296927        37889   259037   \n\n    corp_profit  corp_income_tax  corp_downpay  \n0         56350            12397             0  \n1         59703            13134             0  \n2         63161            13895             0  \n3         66727            14680             0  \n4         70405            15489             0  \n5         74198            16323             0  \n6         78108            17183             0  \n7         82141            18071             0  \n8         86300            18986             0  \n9         90589            19929             0  \n10        95011            20902             0  \n11        99571            21905             0  \n12       104272            22940             0  \n13       109121            24006             0  \n14       114120            25106             0  \n15       119274            26240             0  \n16       124589            27409             0  \n17       130069            28615             0  \n18       135719            29858             0  \n19       141545            31139             0  \n20       147552            32461             0  \n21       153745            33823             0  \n22       160130            35228             0  \n23       166713            36676             0  \n24       173500            38170             0  \n25       180498            39709             0  \n26       187712            41296             0  \n27       195150            42933             0  \n28       202818            44620             0  \n29       210724            46359             0  ",
      "text/html": "<div>\n<style scoped>\n    .dataframe tbody tr th:only-of-type {\n        vertical-align: middle;\n    }\n\n    .dataframe tbody tr th {\n        vertical-align: top;\n    }\n\n    .dataframe thead th {\n        text-align: right;\n    }\n</style>\n<table border=\"1\" class=\"dataframe\">\n  <thead>\n    <tr style=\"text-align: right;\">\n      <th></th>\n      <th>year</th>\n      <th>mortgage</th>\n      <th>mortgage_interest</th>\n      <th>rent_yy</th>\n      <th>expenses_yy</th>\n      <th>balance</th>\n      <th>corp_profit</th>\n      <th>corp_income_tax</th>\n      <th>corp_downpay</th>\n    </tr>\n  </thead>\n  <tbody>\n    <tr>\n      <th>0</th>\n      <td>0</td>\n      <td>1945000</td>\n      <td>48313</td>\n      <td>126000</td>\n      <td>21336</td>\n      <td>104664</td>\n      <td>56350</td>\n      <td>12397</td>\n      <td>0</td>\n    </tr>\n    <tr>\n      <th>1</th>\n      <td>1</td>\n      <td>1945000</td>\n      <td>48313</td>\n      <td>129780</td>\n      <td>21762</td>\n      <td>108017</td>\n      <td>59703</td>\n      <td>13134</td>\n      <td>0</td>\n    </tr>\n    <tr>\n      <th>2</th>\n      <td>2</td>\n      <td>1945000</td>\n      <td>48313</td>\n      <td>133673</td>\n      <td>22197</td>\n      <td>111475</td>\n      <td>63161</td>\n      <td>13895</td>\n      <td>0</td>\n    </tr>\n    <tr>\n      <th>3</th>\n      <td>3</td>\n      <td>1945000</td>\n      <td>48313</td>\n      <td>137683</td>\n      <td>22641</td>\n      <td>115041</td>\n      <td>66727</td>\n      <td>14680</td>\n      <td>0</td>\n    </tr>\n    <tr>\n      <th>4</th>\n      <td>4</td>\n      <td>1945000</td>\n      <td>48313</td>\n      <td>141814</td>\n      <td>23094</td>\n      <td>118719</td>\n      <td>70405</td>\n      <td>15489</td>\n      <td>0</td>\n    </tr>\n    <tr>\n      <th>5</th>\n      <td>5</td>\n      <td>1945000</td>\n      <td>48313</td>\n      <td>146068</td>\n      <td>23556</td>\n      <td>122511</td>\n      <td>74198</td>\n      <td>16323</td>\n      <td>0</td>\n    </tr>\n    <tr>\n      <th>6</th>\n      <td>6</td>\n      <td>1945000</td>\n      <td>48313</td>\n      <td>150450</td>\n      <td>24027</td>\n      <td>126422</td>\n      <td>78108</td>\n      <td>17183</td>\n      <td>0</td>\n    </tr>\n    <tr>\n      <th>7</th>\n      <td>7</td>\n      <td>1945000</td>\n      <td>48313</td>\n      <td>154964</td>\n      <td>24508</td>\n      <td>130455</td>\n      <td>82141</td>\n      <td>18071</td>\n      <td>0</td>\n    </tr>\n    <tr>\n      <th>8</th>\n      <td>8</td>\n      <td>1945000</td>\n      <td>48313</td>\n      <td>159613</td>\n      <td>24998</td>\n      <td>134614</td>\n      <td>86300</td>\n      <td>18986</td>\n      <td>0</td>\n    </tr>\n    <tr>\n      <th>9</th>\n      <td>9</td>\n      <td>1945000</td>\n      <td>48313</td>\n      <td>164401</td>\n      <td>25498</td>\n      <td>138902</td>\n      <td>90589</td>\n      <td>19929</td>\n      <td>0</td>\n    </tr>\n    <tr>\n      <th>10</th>\n      <td>10</td>\n      <td>1945000</td>\n      <td>48313</td>\n      <td>169333</td>\n      <td>26008</td>\n      <td>143324</td>\n      <td>95011</td>\n      <td>20902</td>\n      <td>0</td>\n    </tr>\n    <tr>\n      <th>11</th>\n      <td>11</td>\n      <td>1945000</td>\n      <td>48313</td>\n      <td>174413</td>\n      <td>26528</td>\n      <td>147884</td>\n      <td>99571</td>\n      <td>21905</td>\n      <td>0</td>\n    </tr>\n    <tr>\n      <th>12</th>\n      <td>12</td>\n      <td>1945000</td>\n      <td>48313</td>\n      <td>179645</td>\n      <td>27059</td>\n      <td>152586</td>\n      <td>104272</td>\n      <td>22940</td>\n      <td>0</td>\n    </tr>\n    <tr>\n      <th>13</th>\n      <td>13</td>\n      <td>1945000</td>\n      <td>48313</td>\n      <td>185035</td>\n      <td>27600</td>\n      <td>157434</td>\n      <td>109121</td>\n      <td>24006</td>\n      <td>0</td>\n    </tr>\n    <tr>\n      <th>14</th>\n      <td>14</td>\n      <td>1945000</td>\n      <td>48313</td>\n      <td>190586</td>\n      <td>28152</td>\n      <td>162433</td>\n      <td>114120</td>\n      <td>25106</td>\n      <td>0</td>\n    </tr>\n    <tr>\n      <th>15</th>\n      <td>15</td>\n      <td>1945000</td>\n      <td>48313</td>\n      <td>196303</td>\n      <td>28715</td>\n      <td>167588</td>\n      <td>119274</td>\n      <td>26240</td>\n      <td>0</td>\n    </tr>\n    <tr>\n      <th>16</th>\n      <td>16</td>\n      <td>1945000</td>\n      <td>48313</td>\n      <td>202193</td>\n      <td>29289</td>\n      <td>172903</td>\n      <td>124589</td>\n      <td>27409</td>\n      <td>0</td>\n    </tr>\n    <tr>\n      <th>17</th>\n      <td>17</td>\n      <td>1945000</td>\n      <td>48313</td>\n      <td>208258</td>\n      <td>29875</td>\n      <td>178383</td>\n      <td>130069</td>\n      <td>28615</td>\n      <td>0</td>\n    </tr>\n    <tr>\n      <th>18</th>\n      <td>18</td>\n      <td>1945000</td>\n      <td>48313</td>\n      <td>214506</td>\n      <td>30473</td>\n      <td>184033</td>\n      <td>135719</td>\n      <td>29858</td>\n      <td>0</td>\n    </tr>\n    <tr>\n      <th>19</th>\n      <td>19</td>\n      <td>1945000</td>\n      <td>48313</td>\n      <td>220941</td>\n      <td>31082</td>\n      <td>189859</td>\n      <td>141545</td>\n      <td>31139</td>\n      <td>0</td>\n    </tr>\n    <tr>\n      <th>20</th>\n      <td>20</td>\n      <td>1945000</td>\n      <td>48313</td>\n      <td>227570</td>\n      <td>31704</td>\n      <td>195865</td>\n      <td>147552</td>\n      <td>32461</td>\n      <td>0</td>\n    </tr>\n    <tr>\n      <th>21</th>\n      <td>21</td>\n      <td>1945000</td>\n      <td>48313</td>\n      <td>234397</td>\n      <td>32338</td>\n      <td>202058</td>\n      <td>153745</td>\n      <td>33823</td>\n      <td>0</td>\n    </tr>\n    <tr>\n      <th>22</th>\n      <td>22</td>\n      <td>1945000</td>\n      <td>48313</td>\n      <td>241429</td>\n      <td>32985</td>\n      <td>208444</td>\n      <td>160130</td>\n      <td>35228</td>\n      <td>0</td>\n    </tr>\n    <tr>\n      <th>23</th>\n      <td>23</td>\n      <td>1945000</td>\n      <td>48313</td>\n      <td>248671</td>\n      <td>33644</td>\n      <td>215027</td>\n      <td>166713</td>\n      <td>36676</td>\n      <td>0</td>\n    </tr>\n    <tr>\n      <th>24</th>\n      <td>24</td>\n      <td>1945000</td>\n      <td>48313</td>\n      <td>256132</td>\n      <td>34317</td>\n      <td>221814</td>\n      <td>173500</td>\n      <td>38170</td>\n      <td>0</td>\n    </tr>\n    <tr>\n      <th>25</th>\n      <td>25</td>\n      <td>1945000</td>\n      <td>48313</td>\n      <td>263816</td>\n      <td>35003</td>\n      <td>228812</td>\n      <td>180498</td>\n      <td>39709</td>\n      <td>0</td>\n    </tr>\n    <tr>\n      <th>26</th>\n      <td>26</td>\n      <td>1945000</td>\n      <td>48313</td>\n      <td>271730</td>\n      <td>35704</td>\n      <td>236026</td>\n      <td>187712</td>\n      <td>41296</td>\n      <td>0</td>\n    </tr>\n    <tr>\n      <th>27</th>\n      <td>27</td>\n      <td>1945000</td>\n      <td>48313</td>\n      <td>279882</td>\n      <td>36418</td>\n      <td>243464</td>\n      <td>195150</td>\n      <td>42933</td>\n      <td>0</td>\n    </tr>\n    <tr>\n      <th>28</th>\n      <td>28</td>\n      <td>1945000</td>\n      <td>48313</td>\n      <td>288278</td>\n      <td>37146</td>\n      <td>251132</td>\n      <td>202818</td>\n      <td>44620</td>\n      <td>0</td>\n    </tr>\n    <tr>\n      <th>29</th>\n      <td>29</td>\n      <td>1945000</td>\n      <td>48313</td>\n      <td>296927</td>\n      <td>37889</td>\n      <td>259037</td>\n      <td>210724</td>\n      <td>46359</td>\n      <td>0</td>\n    </tr>\n  </tbody>\n</table>\n</div>"
     },
     "metadata": {},
     "execution_count": 92
    }
   ],
   "source": [
    "e1_df\n"
   ]
  },
  {
   "cell_type": "code",
   "execution_count": 87,
   "metadata": {
    "tags": []
   },
   "outputs": [
    {
     "output_type": "stream",
     "name": "stdout",
     "text": "navn: Egelykkeparken 25C\npris: 2195000\n"
    }
   ],
   "source": [
    "e1.estate_overview()"
   ]
  },
  {
   "cell_type": "code",
   "execution_count": 88,
   "metadata": {},
   "outputs": [
    {
     "output_type": "error",
     "ename": "AttributeError",
     "evalue": "'estate' object has no attribute 'overview'",
     "traceback": [
      "\u001b[1;31m---------------------------------------------------------------------------\u001b[0m",
      "\u001b[1;31mAttributeError\u001b[0m                            Traceback (most recent call last)",
      "\u001b[1;32m<ipython-input-88-2b5fac04e328>\u001b[0m in \u001b[0;36m<module>\u001b[1;34m\u001b[0m\n\u001b[1;32m----> 1\u001b[1;33m \u001b[0mst\u001b[0m\u001b[1;33m=\u001b[0m\u001b[0me1\u001b[0m\u001b[1;33m.\u001b[0m\u001b[0moverview\u001b[0m\u001b[1;33m\u001b[0m\u001b[1;33m\u001b[0m\u001b[0m\n\u001b[0m",
      "\u001b[1;31mAttributeError\u001b[0m: 'estate' object has no attribute 'overview'"
     ]
    }
   ],
   "source": [
    "st=e1.overview"
   ]
  },
  {
   "cell_type": "code",
   "execution_count": 27,
   "metadata": {},
   "outputs": [
    {
     "output_type": "display_data",
     "data": {
      "text/plain": "{'navn': 'Egelykkeparken 25C', 'pris': 2195000}"
     },
     "metadata": {}
    }
   ],
   "source": [
    "display(st)"
   ]
  },
  {
   "cell_type": "code",
   "execution_count": null,
   "metadata": {},
   "outputs": [],
   "source": []
  }
 ],
 "metadata": {
  "language_info": {
   "codemirror_mode": {
    "name": "ipython",
    "version": 3
   },
   "file_extension": ".py",
   "mimetype": "text/x-python",
   "name": "python",
   "nbconvert_exporter": "python",
   "pygments_lexer": "ipython3",
   "version": 3
  },
  "orig_nbformat": 2,
  "kernelspec": {
   "name": "python_defaultSpec_1599916916108",
   "display_name": "Python 3.7.6 64-bit ('py37': conda)"
  }
 },
 "nbformat": 4,
 "nbformat_minor": 2
}