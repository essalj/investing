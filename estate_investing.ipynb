{
 "cells": [
  {
   "cell_type": "code",
   "execution_count": 1,
   "metadata": {},
   "outputs": [],
   "source": [
    "import os\n",
    "import sys\n",
    "\n",
    "import pandas as pd\n",
    "import numpy as np"
   ]
  },
  {
   "cell_type": "code",
   "execution_count": 55,
   "metadata": {},
   "outputs": [],
   "source": [
    "class estate:\n",
    "    def __init__(self, name='No Name', price=0, xp_owner_yy=0, xp_estate_tax_yy=0):\n",
    "\n",
    "        self.name = name\n",
    "        self.price = price\n",
    "        self.xp_owner_yy = xp_owner_yy\n",
    "        self.xp_estate_tax_yy = xp_estate_tax_yy\n",
    "\n",
    "        #self.mortgage = price\n",
    "        self.mortgage_pct = 2.484\n",
    "\n",
    "        self.sqm=0\n",
    "        self.rent_mm = 0\n",
    "        self.n_years = 30\n",
    "        self.tax_corp_pct = 22\n",
    "        self.tax_private_pct= 55.6\n",
    "        self.tax_deduct_interest_priv_pct = 33\n",
    "\n",
    "        self.rent_up_pct = 2        # annual increase in expenses\n",
    "        self.xp_up_pct = 2          # annual increase in expenses\n",
    "        self.maintenance_pct = 1    # percent of annual rent that is allocated for maintenance\n",
    "\n",
    "\n",
    "        self.private_downpay = 0\n",
    "\n",
    " \n",
    "    def income_rent(self):\n",
    "        rent_yy =[]\n",
    "        for n in range(self.n_years):\n",
    "            rent = 12 * self.rent_mm*(1 + self.rent_up_pct/100)**n \n",
    "            rent_yy.append(rent)\n",
    "        return rent_yy\n",
    "\n",
    "\n",
    "    def expenses(self):\n",
    "        xp_yy=[]\n",
    "        for n in range(self.n_years):\n",
    "            xp = (self.xp_owner_yy + self.xp_estate_tax_yy) * (1 + self.xp_up_pct/100)**n\n",
    "            xp_yy.append(xp)\n",
    "        return xp_yy\n",
    "        '''\n",
    "    def mortgage(self):\n",
    "        self.mortgage = []\n",
    "        self.mortgage_interest = []\n",
    "\n",
    "        for n in range(self.n_years):\n",
    "            mg_\n",
    "        '''\n",
    "   \n",
    "    def build_df(self):\n",
    "        df = pd.DataFrame()\n",
    "        yy = list(range(self.n_years))\n",
    "        self.income_rent_yy = self.income_rent()\n",
    "        self.expenses_yy = self.expenses()\n",
    "\n",
    "        df['year'] = yy\n",
    " \n",
    "        df['mortgage'] = self.price\n",
    "        df['mortgage_interest'] = self.mortgage_pct*df['mortgage']/100\n",
    " \n",
    "        df['rent_yy'] = self.income_rent_yy\n",
    "        df['expenses_yy'] = self.expenses_yy\n",
    "        df['balance'] = df['rent_yy'] - df['expenses_yy']\n",
    "\n",
    "\n",
    "\n",
    "        #private_buy\n",
    "        df['private_buy_income_tax'] = .01*self.tax_private_pct * (df['rent_yy']-df['expenses_yy'])\n",
    "        df['private_net_interest'] = .01*(100-self.tax_deduct_interest_priv_pct) * df['mortgage_interest']\n",
    "        df['private_profit'] = df['balance'] - df['private_buy_income_tax'] - df['private_net_interest']\n",
    "        df['prvate_downpay'] = self.private_downpay*df['private_profit']\n",
    "\n",
    "\n",
    "        #corp_buy\n",
    "        df['corp_buy_income_tax'] = .01*self.tax_corp_pct * (df['balance'] - df['mortgage_interest'])\n",
    "        df['corp_profit'] = df['balance'] - df['mortgage_interest'] - df['corp_buy_income_tax'] \n",
    "        df['corp_downpay'] = df['corp_profit']\n",
    "\n",
    "\n",
    "        for v in df.columns:\n",
    "            df[v] = df[v].astype(int)\n",
    "        #df['running_'] = df['rent_yy']  - df['expenses_yy'] # - df['mortgage_interest']*(1-self.tax_deduct_interest_priv_pct/100) \n",
    "        \n",
    "        #df['profit_private'] \n",
    "        #df['profit_corp_yy'] = df['rent_yy']  - df['expenses_yy'] - df['mortgage_interest']\n",
    "\n",
    "\n",
    "\n",
    "\n",
    "        #        tax_corp = (income - expenses)*self.tax_corp_pct\n",
    "        #self.df=df\n",
    "        display(df)\n",
    "        self.df = df\n",
    "\n",
    "    \n",
    "\n",
    "    def test(self):\n",
    "        rt = self.income_rent()\n",
    "        display(rt)\n",
    "    \n",
    "\n",
    "\n",
    "  \n",
    "\n",
    "    \n"
   ]
  },
  {
   "cell_type": "code",
   "execution_count": 56,
   "metadata": {},
   "outputs": [],
   "source": [
    "e1 = estate()\n",
    "e1.name = 'Egelykkeparken 25C'\n",
    "e1.price = 2195000\n",
    "e1.xp_owner_yy = 17187 + 29\n",
    "e1.xp_estate_tax_yy = 4120\n",
    "e1.rent_mm = 10500\n",
    "\n"
   ]
  },
  {
   "cell_type": "code",
   "execution_count": 57,
   "metadata": {},
   "outputs": [
    {
     "output_type": "display_data",
     "data": {
      "text/plain": "    year  mortgage  mortgage_interest  rent_yy  expenses_yy  balance  \\\n0      0   2195000              54523   126000        21336   104664   \n1      1   2195000              54523   128520        21762   106757   \n2      2   2195000              54523   131090        22197   108892   \n3      3   2195000              54523   133712        22641   111070   \n4      4   2195000              54523   136386        23094   113291   \n5      5   2195000              54523   139114        23556   115557   \n6      6   2195000              54523   141896        24027   117868   \n7      7   2195000              54523   144734        24508   120226   \n8      8   2195000              54523   147629        24998   122630   \n9      9   2195000              54523   150581        25498   125083   \n10    10   2195000              54523   153593        26008   127584   \n11    11   2195000              54523   156665        26528   130136   \n12    12   2195000              54523   159798        27059   132739   \n13    13   2195000              54523   162994        27600   135394   \n14    14   2195000              54523   166254        28152   138101   \n15    15   2195000              54523   169579        28715   140863   \n16    16   2195000              54523   172970        29289   143681   \n17    17   2195000              54523   176430        29875   146554   \n18    18   2195000              54523   179959        30473   149485   \n19    19   2195000              54523   183558        31082   152475   \n20    20   2195000              54523   187229        31704   155525   \n21    21   2195000              54523   190973        32338   158635   \n22    22   2195000              54523   194793        32985   161808   \n23    23   2195000              54523   198689        33644   165044   \n24    24   2195000              54523   202663        34317   168345   \n25    25   2195000              54523   206716        35003   171712   \n26    26   2195000              54523   210850        35704   175146   \n27    27   2195000              54523   215067        36418   178649   \n28    28   2195000              54523   219369        37146   182222   \n29    29   2195000              54523   223756        37889   185867   \n\n    private_buy_income_tax  private_net_interest  private_profit  \\\n0                    58193                 36530            9939   \n1                    59357                 36530           10869   \n2                    60544                 36530           11817   \n3                    61755                 36530           12784   \n4                    62990                 36530           13770   \n5                    64249                 36530           14776   \n6                    65534                 36530           15802   \n7                    66845                 36530           16849   \n8                    68182                 36530           17917   \n9                    69546                 36530           19005   \n10                   70937                 36530           20116   \n11                   72355                 36530           21249   \n12                   73803                 36530           22405   \n13                   75279                 36530           23584   \n14                   76784                 36530           24786   \n15                   78320                 36530           26012   \n16                   79886                 36530           27263   \n17                   81484                 36530           28539   \n18                   83114                 36530           29840   \n19                   84776                 36530           31168   \n20                   86472                 36530           32522   \n21                   88201                 36530           33903   \n22                   89965                 36530           35311   \n23                   91764                 36530           36748   \n24                   93600                 36530           38214   \n25                   95472                 36530           39709   \n26                   97381                 36530           41234   \n27                   99329                 36530           42789   \n28                  101315                 36530           44375   \n29                  103342                 36530           45994   \n\n    prvate_downpay  corp_buy_income_tax  corp_profit  corp_downpay  \n0                0                11030        39109         39109  \n1                0                11491        40742         40742  \n2                0                11961        42407         42407  \n3                0                12440        44106         44106  \n4                0                12928        45838         45838  \n5                0                13427        47606         47606  \n6                0                13935        49408         49408  \n7                0                14454        51247         51247  \n8                0                14983        53123         53123  \n9                0                15523        55036         55036  \n10               0                16073        56987         56987  \n11               0                16634        58977         58977  \n12               0                17207        61008         61008  \n13               0                17791        63078         63078  \n14               0                18387        65190         65190  \n15               0                18994        67345         67345  \n16               0                19614        69542         69542  \n17               0                20246        71784         71784  \n18               0                20891        74070         74070  \n19               0                21549        76402         76402  \n20               0                22220        78781         78781  \n21               0                22904        81207         81207  \n22               0                23602        83682         83682  \n23               0                24314        86206         86206  \n24               0                25040        88780         88780  \n25               0                25781        91407         91407  \n26               0                26537        94085         94085  \n27               0                27307        96818         96818  \n28               0                28093        99605         99605  \n29               0                28895       102447        102447  ",
      "text/html": "<div>\n<style scoped>\n    .dataframe tbody tr th:only-of-type {\n        vertical-align: middle;\n    }\n\n    .dataframe tbody tr th {\n        vertical-align: top;\n    }\n\n    .dataframe thead th {\n        text-align: right;\n    }\n</style>\n<table border=\"1\" class=\"dataframe\">\n  <thead>\n    <tr style=\"text-align: right;\">\n      <th></th>\n      <th>year</th>\n      <th>mortgage</th>\n      <th>mortgage_interest</th>\n      <th>rent_yy</th>\n      <th>expenses_yy</th>\n      <th>balance</th>\n      <th>private_buy_income_tax</th>\n      <th>private_net_interest</th>\n      <th>private_profit</th>\n      <th>prvate_downpay</th>\n      <th>corp_buy_income_tax</th>\n      <th>corp_profit</th>\n      <th>corp_downpay</th>\n    </tr>\n  </thead>\n  <tbody>\n    <tr>\n      <th>0</th>\n      <td>0</td>\n      <td>2195000</td>\n      <td>54523</td>\n      <td>126000</td>\n      <td>21336</td>\n      <td>104664</td>\n      <td>58193</td>\n      <td>36530</td>\n      <td>9939</td>\n      <td>0</td>\n      <td>11030</td>\n      <td>39109</td>\n      <td>39109</td>\n    </tr>\n    <tr>\n      <th>1</th>\n      <td>1</td>\n      <td>2195000</td>\n      <td>54523</td>\n      <td>128520</td>\n      <td>21762</td>\n      <td>106757</td>\n      <td>59357</td>\n      <td>36530</td>\n      <td>10869</td>\n      <td>0</td>\n      <td>11491</td>\n      <td>40742</td>\n      <td>40742</td>\n    </tr>\n    <tr>\n      <th>2</th>\n      <td>2</td>\n      <td>2195000</td>\n      <td>54523</td>\n      <td>131090</td>\n      <td>22197</td>\n      <td>108892</td>\n      <td>60544</td>\n      <td>36530</td>\n      <td>11817</td>\n      <td>0</td>\n      <td>11961</td>\n      <td>42407</td>\n      <td>42407</td>\n    </tr>\n    <tr>\n      <th>3</th>\n      <td>3</td>\n      <td>2195000</td>\n      <td>54523</td>\n      <td>133712</td>\n      <td>22641</td>\n      <td>111070</td>\n      <td>61755</td>\n      <td>36530</td>\n      <td>12784</td>\n      <td>0</td>\n      <td>12440</td>\n      <td>44106</td>\n      <td>44106</td>\n    </tr>\n    <tr>\n      <th>4</th>\n      <td>4</td>\n      <td>2195000</td>\n      <td>54523</td>\n      <td>136386</td>\n      <td>23094</td>\n      <td>113291</td>\n      <td>62990</td>\n      <td>36530</td>\n      <td>13770</td>\n      <td>0</td>\n      <td>12928</td>\n      <td>45838</td>\n      <td>45838</td>\n    </tr>\n    <tr>\n      <th>5</th>\n      <td>5</td>\n      <td>2195000</td>\n      <td>54523</td>\n      <td>139114</td>\n      <td>23556</td>\n      <td>115557</td>\n      <td>64249</td>\n      <td>36530</td>\n      <td>14776</td>\n      <td>0</td>\n      <td>13427</td>\n      <td>47606</td>\n      <td>47606</td>\n    </tr>\n    <tr>\n      <th>6</th>\n      <td>6</td>\n      <td>2195000</td>\n      <td>54523</td>\n      <td>141896</td>\n      <td>24027</td>\n      <td>117868</td>\n      <td>65534</td>\n      <td>36530</td>\n      <td>15802</td>\n      <td>0</td>\n      <td>13935</td>\n      <td>49408</td>\n      <td>49408</td>\n    </tr>\n    <tr>\n      <th>7</th>\n      <td>7</td>\n      <td>2195000</td>\n      <td>54523</td>\n      <td>144734</td>\n      <td>24508</td>\n      <td>120226</td>\n      <td>66845</td>\n      <td>36530</td>\n      <td>16849</td>\n      <td>0</td>\n      <td>14454</td>\n      <td>51247</td>\n      <td>51247</td>\n    </tr>\n    <tr>\n      <th>8</th>\n      <td>8</td>\n      <td>2195000</td>\n      <td>54523</td>\n      <td>147629</td>\n      <td>24998</td>\n      <td>122630</td>\n      <td>68182</td>\n      <td>36530</td>\n      <td>17917</td>\n      <td>0</td>\n      <td>14983</td>\n      <td>53123</td>\n      <td>53123</td>\n    </tr>\n    <tr>\n      <th>9</th>\n      <td>9</td>\n      <td>2195000</td>\n      <td>54523</td>\n      <td>150581</td>\n      <td>25498</td>\n      <td>125083</td>\n      <td>69546</td>\n      <td>36530</td>\n      <td>19005</td>\n      <td>0</td>\n      <td>15523</td>\n      <td>55036</td>\n      <td>55036</td>\n    </tr>\n    <tr>\n      <th>10</th>\n      <td>10</td>\n      <td>2195000</td>\n      <td>54523</td>\n      <td>153593</td>\n      <td>26008</td>\n      <td>127584</td>\n      <td>70937</td>\n      <td>36530</td>\n      <td>20116</td>\n      <td>0</td>\n      <td>16073</td>\n      <td>56987</td>\n      <td>56987</td>\n    </tr>\n    <tr>\n      <th>11</th>\n      <td>11</td>\n      <td>2195000</td>\n      <td>54523</td>\n      <td>156665</td>\n      <td>26528</td>\n      <td>130136</td>\n      <td>72355</td>\n      <td>36530</td>\n      <td>21249</td>\n      <td>0</td>\n      <td>16634</td>\n      <td>58977</td>\n      <td>58977</td>\n    </tr>\n    <tr>\n      <th>12</th>\n      <td>12</td>\n      <td>2195000</td>\n      <td>54523</td>\n      <td>159798</td>\n      <td>27059</td>\n      <td>132739</td>\n      <td>73803</td>\n      <td>36530</td>\n      <td>22405</td>\n      <td>0</td>\n      <td>17207</td>\n      <td>61008</td>\n      <td>61008</td>\n    </tr>\n    <tr>\n      <th>13</th>\n      <td>13</td>\n      <td>2195000</td>\n      <td>54523</td>\n      <td>162994</td>\n      <td>27600</td>\n      <td>135394</td>\n      <td>75279</td>\n      <td>36530</td>\n      <td>23584</td>\n      <td>0</td>\n      <td>17791</td>\n      <td>63078</td>\n      <td>63078</td>\n    </tr>\n    <tr>\n      <th>14</th>\n      <td>14</td>\n      <td>2195000</td>\n      <td>54523</td>\n      <td>166254</td>\n      <td>28152</td>\n      <td>138101</td>\n      <td>76784</td>\n      <td>36530</td>\n      <td>24786</td>\n      <td>0</td>\n      <td>18387</td>\n      <td>65190</td>\n      <td>65190</td>\n    </tr>\n    <tr>\n      <th>15</th>\n      <td>15</td>\n      <td>2195000</td>\n      <td>54523</td>\n      <td>169579</td>\n      <td>28715</td>\n      <td>140863</td>\n      <td>78320</td>\n      <td>36530</td>\n      <td>26012</td>\n      <td>0</td>\n      <td>18994</td>\n      <td>67345</td>\n      <td>67345</td>\n    </tr>\n    <tr>\n      <th>16</th>\n      <td>16</td>\n      <td>2195000</td>\n      <td>54523</td>\n      <td>172970</td>\n      <td>29289</td>\n      <td>143681</td>\n      <td>79886</td>\n      <td>36530</td>\n      <td>27263</td>\n      <td>0</td>\n      <td>19614</td>\n      <td>69542</td>\n      <td>69542</td>\n    </tr>\n    <tr>\n      <th>17</th>\n      <td>17</td>\n      <td>2195000</td>\n      <td>54523</td>\n      <td>176430</td>\n      <td>29875</td>\n      <td>146554</td>\n      <td>81484</td>\n      <td>36530</td>\n      <td>28539</td>\n      <td>0</td>\n      <td>20246</td>\n      <td>71784</td>\n      <td>71784</td>\n    </tr>\n    <tr>\n      <th>18</th>\n      <td>18</td>\n      <td>2195000</td>\n      <td>54523</td>\n      <td>179959</td>\n      <td>30473</td>\n      <td>149485</td>\n      <td>83114</td>\n      <td>36530</td>\n      <td>29840</td>\n      <td>0</td>\n      <td>20891</td>\n      <td>74070</td>\n      <td>74070</td>\n    </tr>\n    <tr>\n      <th>19</th>\n      <td>19</td>\n      <td>2195000</td>\n      <td>54523</td>\n      <td>183558</td>\n      <td>31082</td>\n      <td>152475</td>\n      <td>84776</td>\n      <td>36530</td>\n      <td>31168</td>\n      <td>0</td>\n      <td>21549</td>\n      <td>76402</td>\n      <td>76402</td>\n    </tr>\n    <tr>\n      <th>20</th>\n      <td>20</td>\n      <td>2195000</td>\n      <td>54523</td>\n      <td>187229</td>\n      <td>31704</td>\n      <td>155525</td>\n      <td>86472</td>\n      <td>36530</td>\n      <td>32522</td>\n      <td>0</td>\n      <td>22220</td>\n      <td>78781</td>\n      <td>78781</td>\n    </tr>\n    <tr>\n      <th>21</th>\n      <td>21</td>\n      <td>2195000</td>\n      <td>54523</td>\n      <td>190973</td>\n      <td>32338</td>\n      <td>158635</td>\n      <td>88201</td>\n      <td>36530</td>\n      <td>33903</td>\n      <td>0</td>\n      <td>22904</td>\n      <td>81207</td>\n      <td>81207</td>\n    </tr>\n    <tr>\n      <th>22</th>\n      <td>22</td>\n      <td>2195000</td>\n      <td>54523</td>\n      <td>194793</td>\n      <td>32985</td>\n      <td>161808</td>\n      <td>89965</td>\n      <td>36530</td>\n      <td>35311</td>\n      <td>0</td>\n      <td>23602</td>\n      <td>83682</td>\n      <td>83682</td>\n    </tr>\n    <tr>\n      <th>23</th>\n      <td>23</td>\n      <td>2195000</td>\n      <td>54523</td>\n      <td>198689</td>\n      <td>33644</td>\n      <td>165044</td>\n      <td>91764</td>\n      <td>36530</td>\n      <td>36748</td>\n      <td>0</td>\n      <td>24314</td>\n      <td>86206</td>\n      <td>86206</td>\n    </tr>\n    <tr>\n      <th>24</th>\n      <td>24</td>\n      <td>2195000</td>\n      <td>54523</td>\n      <td>202663</td>\n      <td>34317</td>\n      <td>168345</td>\n      <td>93600</td>\n      <td>36530</td>\n      <td>38214</td>\n      <td>0</td>\n      <td>25040</td>\n      <td>88780</td>\n      <td>88780</td>\n    </tr>\n    <tr>\n      <th>25</th>\n      <td>25</td>\n      <td>2195000</td>\n      <td>54523</td>\n      <td>206716</td>\n      <td>35003</td>\n      <td>171712</td>\n      <td>95472</td>\n      <td>36530</td>\n      <td>39709</td>\n      <td>0</td>\n      <td>25781</td>\n      <td>91407</td>\n      <td>91407</td>\n    </tr>\n    <tr>\n      <th>26</th>\n      <td>26</td>\n      <td>2195000</td>\n      <td>54523</td>\n      <td>210850</td>\n      <td>35704</td>\n      <td>175146</td>\n      <td>97381</td>\n      <td>36530</td>\n      <td>41234</td>\n      <td>0</td>\n      <td>26537</td>\n      <td>94085</td>\n      <td>94085</td>\n    </tr>\n    <tr>\n      <th>27</th>\n      <td>27</td>\n      <td>2195000</td>\n      <td>54523</td>\n      <td>215067</td>\n      <td>36418</td>\n      <td>178649</td>\n      <td>99329</td>\n      <td>36530</td>\n      <td>42789</td>\n      <td>0</td>\n      <td>27307</td>\n      <td>96818</td>\n      <td>96818</td>\n    </tr>\n    <tr>\n      <th>28</th>\n      <td>28</td>\n      <td>2195000</td>\n      <td>54523</td>\n      <td>219369</td>\n      <td>37146</td>\n      <td>182222</td>\n      <td>101315</td>\n      <td>36530</td>\n      <td>44375</td>\n      <td>0</td>\n      <td>28093</td>\n      <td>99605</td>\n      <td>99605</td>\n    </tr>\n    <tr>\n      <th>29</th>\n      <td>29</td>\n      <td>2195000</td>\n      <td>54523</td>\n      <td>223756</td>\n      <td>37889</td>\n      <td>185867</td>\n      <td>103342</td>\n      <td>36530</td>\n      <td>45994</td>\n      <td>0</td>\n      <td>28895</td>\n      <td>102447</td>\n      <td>102447</td>\n    </tr>\n  </tbody>\n</table>\n</div>"
     },
     "metadata": {}
    }
   ],
   "source": [
    "e1.build_df()"
   ]
  },
  {
   "cell_type": "code",
   "execution_count": 48,
   "metadata": {},
   "outputs": [
    {
     "output_type": "execute_result",
     "data": {
      "text/plain": "    year  mortgage  mortgage_interest  rent_yy  expenses_yy  balance  \\\n0      0   2195000              53558   126000        21336   104664   \n1      1   2195000              53558   128520        21762   106757   \n2      2   2195000              53558   131090        22197   108892   \n3      3   2195000              53558   133712        22641   111070   \n4      4   2195000              53558   136386        23094   113291   \n5      5   2195000              53558   139114        23556   115557   \n6      6   2195000              53558   141896        24027   117868   \n7      7   2195000              53558   144734        24508   120226   \n8      8   2195000              53558   147629        24998   122630   \n9      9   2195000              53558   150581        25498   125083   \n10    10   2195000              53558   153593        26008   127584   \n11    11   2195000              53558   156665        26528   130136   \n12    12   2195000              53558   159798        27059   132739   \n13    13   2195000              53558   162994        27600   135394   \n14    14   2195000              53558   166254        28152   138101   \n15    15   2195000              53558   169579        28715   140863   \n16    16   2195000              53558   172970        29289   143681   \n17    17   2195000              53558   176430        29875   146554   \n18    18   2195000              53558   179959        30473   149485   \n19    19   2195000              53558   183558        31082   152475   \n20    20   2195000              53558   187229        31704   155525   \n21    21   2195000              53558   190973        32338   158635   \n22    22   2195000              53558   194793        32985   161808   \n23    23   2195000              53558   198689        33644   165044   \n24    24   2195000              53558   202663        34317   168345   \n25    25   2195000              53558   206716        35003   171712   \n26    26   2195000              53558   210850        35704   175146   \n27    27   2195000              53558   215067        36418   178649   \n28    28   2195000              53558   219369        37146   182222   \n29    29   2195000              53558   223756        37889   185867   \n\n    private_buy_income_tax  private_net_interest  private_profit  \\\n0                    58193                 35883           10586   \n1                    59357                 35883           11516   \n2                    60544                 35883           12464   \n3                    61755                 35883           13431   \n4                    62990                 35883           14417   \n5                    64249                 35883           15423   \n6                    65534                 35883           16449   \n7                    66845                 35883           17496   \n8                    68182                 35883           18564   \n9                    69546                 35883           19653   \n10                   70937                 35883           20763   \n11                   72355                 35883           21896   \n12                   73803                 35883           23052   \n13                   75279                 35883           24231   \n14                   76784                 35883           25433   \n15                   78320                 35883           26659   \n16                   79886                 35883           27910   \n17                   81484                 35883           29186   \n18                   83114                 35883           30487   \n19                   84776                 35883           31815   \n20                   86472                 35883           33169   \n21                   88201                 35883           34550   \n22                   89965                 35883           35959   \n23                   91764                 35883           37395   \n24                   93600                 35883           38861   \n25                   95472                 35883           40356   \n26                   97381                 35883           41881   \n27                   99329                 35883           43436   \n28                  101315                 35883           45022   \n29                  103342                 35883           46641   \n\n    prvate_downpay  \n0                0  \n1                0  \n2                0  \n3                0  \n4                0  \n5                0  \n6                0  \n7                0  \n8                0  \n9                0  \n10               0  \n11               0  \n12               0  \n13               0  \n14               0  \n15               0  \n16               0  \n17               0  \n18               0  \n19               0  \n20               0  \n21               0  \n22               0  \n23               0  \n24               0  \n25               0  \n26               0  \n27               0  \n28               0  \n29               0  ",
      "text/html": "<div>\n<style scoped>\n    .dataframe tbody tr th:only-of-type {\n        vertical-align: middle;\n    }\n\n    .dataframe tbody tr th {\n        vertical-align: top;\n    }\n\n    .dataframe thead th {\n        text-align: right;\n    }\n</style>\n<table border=\"1\" class=\"dataframe\">\n  <thead>\n    <tr style=\"text-align: right;\">\n      <th></th>\n      <th>year</th>\n      <th>mortgage</th>\n      <th>mortgage_interest</th>\n      <th>rent_yy</th>\n      <th>expenses_yy</th>\n      <th>balance</th>\n      <th>private_buy_income_tax</th>\n      <th>private_net_interest</th>\n      <th>private_profit</th>\n      <th>prvate_downpay</th>\n    </tr>\n  </thead>\n  <tbody>\n    <tr>\n      <th>0</th>\n      <td>0</td>\n      <td>2195000</td>\n      <td>53558</td>\n      <td>126000</td>\n      <td>21336</td>\n      <td>104664</td>\n      <td>58193</td>\n      <td>35883</td>\n      <td>10586</td>\n      <td>0</td>\n    </tr>\n    <tr>\n      <th>1</th>\n      <td>1</td>\n      <td>2195000</td>\n      <td>53558</td>\n      <td>128520</td>\n      <td>21762</td>\n      <td>106757</td>\n      <td>59357</td>\n      <td>35883</td>\n      <td>11516</td>\n      <td>0</td>\n    </tr>\n    <tr>\n      <th>2</th>\n      <td>2</td>\n      <td>2195000</td>\n      <td>53558</td>\n      <td>131090</td>\n      <td>22197</td>\n      <td>108892</td>\n      <td>60544</td>\n      <td>35883</td>\n      <td>12464</td>\n      <td>0</td>\n    </tr>\n    <tr>\n      <th>3</th>\n      <td>3</td>\n      <td>2195000</td>\n      <td>53558</td>\n      <td>133712</td>\n      <td>22641</td>\n      <td>111070</td>\n      <td>61755</td>\n      <td>35883</td>\n      <td>13431</td>\n      <td>0</td>\n    </tr>\n    <tr>\n      <th>4</th>\n      <td>4</td>\n      <td>2195000</td>\n      <td>53558</td>\n      <td>136386</td>\n      <td>23094</td>\n      <td>113291</td>\n      <td>62990</td>\n      <td>35883</td>\n      <td>14417</td>\n      <td>0</td>\n    </tr>\n    <tr>\n      <th>5</th>\n      <td>5</td>\n      <td>2195000</td>\n      <td>53558</td>\n      <td>139114</td>\n      <td>23556</td>\n      <td>115557</td>\n      <td>64249</td>\n      <td>35883</td>\n      <td>15423</td>\n      <td>0</td>\n    </tr>\n    <tr>\n      <th>6</th>\n      <td>6</td>\n      <td>2195000</td>\n      <td>53558</td>\n      <td>141896</td>\n      <td>24027</td>\n      <td>117868</td>\n      <td>65534</td>\n      <td>35883</td>\n      <td>16449</td>\n      <td>0</td>\n    </tr>\n    <tr>\n      <th>7</th>\n      <td>7</td>\n      <td>2195000</td>\n      <td>53558</td>\n      <td>144734</td>\n      <td>24508</td>\n      <td>120226</td>\n      <td>66845</td>\n      <td>35883</td>\n      <td>17496</td>\n      <td>0</td>\n    </tr>\n    <tr>\n      <th>8</th>\n      <td>8</td>\n      <td>2195000</td>\n      <td>53558</td>\n      <td>147629</td>\n      <td>24998</td>\n      <td>122630</td>\n      <td>68182</td>\n      <td>35883</td>\n      <td>18564</td>\n      <td>0</td>\n    </tr>\n    <tr>\n      <th>9</th>\n      <td>9</td>\n      <td>2195000</td>\n      <td>53558</td>\n      <td>150581</td>\n      <td>25498</td>\n      <td>125083</td>\n      <td>69546</td>\n      <td>35883</td>\n      <td>19653</td>\n      <td>0</td>\n    </tr>\n    <tr>\n      <th>10</th>\n      <td>10</td>\n      <td>2195000</td>\n      <td>53558</td>\n      <td>153593</td>\n      <td>26008</td>\n      <td>127584</td>\n      <td>70937</td>\n      <td>35883</td>\n      <td>20763</td>\n      <td>0</td>\n    </tr>\n    <tr>\n      <th>11</th>\n      <td>11</td>\n      <td>2195000</td>\n      <td>53558</td>\n      <td>156665</td>\n      <td>26528</td>\n      <td>130136</td>\n      <td>72355</td>\n      <td>35883</td>\n      <td>21896</td>\n      <td>0</td>\n    </tr>\n    <tr>\n      <th>12</th>\n      <td>12</td>\n      <td>2195000</td>\n      <td>53558</td>\n      <td>159798</td>\n      <td>27059</td>\n      <td>132739</td>\n      <td>73803</td>\n      <td>35883</td>\n      <td>23052</td>\n      <td>0</td>\n    </tr>\n    <tr>\n      <th>13</th>\n      <td>13</td>\n      <td>2195000</td>\n      <td>53558</td>\n      <td>162994</td>\n      <td>27600</td>\n      <td>135394</td>\n      <td>75279</td>\n      <td>35883</td>\n      <td>24231</td>\n      <td>0</td>\n    </tr>\n    <tr>\n      <th>14</th>\n      <td>14</td>\n      <td>2195000</td>\n      <td>53558</td>\n      <td>166254</td>\n      <td>28152</td>\n      <td>138101</td>\n      <td>76784</td>\n      <td>35883</td>\n      <td>25433</td>\n      <td>0</td>\n    </tr>\n    <tr>\n      <th>15</th>\n      <td>15</td>\n      <td>2195000</td>\n      <td>53558</td>\n      <td>169579</td>\n      <td>28715</td>\n      <td>140863</td>\n      <td>78320</td>\n      <td>35883</td>\n      <td>26659</td>\n      <td>0</td>\n    </tr>\n    <tr>\n      <th>16</th>\n      <td>16</td>\n      <td>2195000</td>\n      <td>53558</td>\n      <td>172970</td>\n      <td>29289</td>\n      <td>143681</td>\n      <td>79886</td>\n      <td>35883</td>\n      <td>27910</td>\n      <td>0</td>\n    </tr>\n    <tr>\n      <th>17</th>\n      <td>17</td>\n      <td>2195000</td>\n      <td>53558</td>\n      <td>176430</td>\n      <td>29875</td>\n      <td>146554</td>\n      <td>81484</td>\n      <td>35883</td>\n      <td>29186</td>\n      <td>0</td>\n    </tr>\n    <tr>\n      <th>18</th>\n      <td>18</td>\n      <td>2195000</td>\n      <td>53558</td>\n      <td>179959</td>\n      <td>30473</td>\n      <td>149485</td>\n      <td>83114</td>\n      <td>35883</td>\n      <td>30487</td>\n      <td>0</td>\n    </tr>\n    <tr>\n      <th>19</th>\n      <td>19</td>\n      <td>2195000</td>\n      <td>53558</td>\n      <td>183558</td>\n      <td>31082</td>\n      <td>152475</td>\n      <td>84776</td>\n      <td>35883</td>\n      <td>31815</td>\n      <td>0</td>\n    </tr>\n    <tr>\n      <th>20</th>\n      <td>20</td>\n      <td>2195000</td>\n      <td>53558</td>\n      <td>187229</td>\n      <td>31704</td>\n      <td>155525</td>\n      <td>86472</td>\n      <td>35883</td>\n      <td>33169</td>\n      <td>0</td>\n    </tr>\n    <tr>\n      <th>21</th>\n      <td>21</td>\n      <td>2195000</td>\n      <td>53558</td>\n      <td>190973</td>\n      <td>32338</td>\n      <td>158635</td>\n      <td>88201</td>\n      <td>35883</td>\n      <td>34550</td>\n      <td>0</td>\n    </tr>\n    <tr>\n      <th>22</th>\n      <td>22</td>\n      <td>2195000</td>\n      <td>53558</td>\n      <td>194793</td>\n      <td>32985</td>\n      <td>161808</td>\n      <td>89965</td>\n      <td>35883</td>\n      <td>35959</td>\n      <td>0</td>\n    </tr>\n    <tr>\n      <th>23</th>\n      <td>23</td>\n      <td>2195000</td>\n      <td>53558</td>\n      <td>198689</td>\n      <td>33644</td>\n      <td>165044</td>\n      <td>91764</td>\n      <td>35883</td>\n      <td>37395</td>\n      <td>0</td>\n    </tr>\n    <tr>\n      <th>24</th>\n      <td>24</td>\n      <td>2195000</td>\n      <td>53558</td>\n      <td>202663</td>\n      <td>34317</td>\n      <td>168345</td>\n      <td>93600</td>\n      <td>35883</td>\n      <td>38861</td>\n      <td>0</td>\n    </tr>\n    <tr>\n      <th>25</th>\n      <td>25</td>\n      <td>2195000</td>\n      <td>53558</td>\n      <td>206716</td>\n      <td>35003</td>\n      <td>171712</td>\n      <td>95472</td>\n      <td>35883</td>\n      <td>40356</td>\n      <td>0</td>\n    </tr>\n    <tr>\n      <th>26</th>\n      <td>26</td>\n      <td>2195000</td>\n      <td>53558</td>\n      <td>210850</td>\n      <td>35704</td>\n      <td>175146</td>\n      <td>97381</td>\n      <td>35883</td>\n      <td>41881</td>\n      <td>0</td>\n    </tr>\n    <tr>\n      <th>27</th>\n      <td>27</td>\n      <td>2195000</td>\n      <td>53558</td>\n      <td>215067</td>\n      <td>36418</td>\n      <td>178649</td>\n      <td>99329</td>\n      <td>35883</td>\n      <td>43436</td>\n      <td>0</td>\n    </tr>\n    <tr>\n      <th>28</th>\n      <td>28</td>\n      <td>2195000</td>\n      <td>53558</td>\n      <td>219369</td>\n      <td>37146</td>\n      <td>182222</td>\n      <td>101315</td>\n      <td>35883</td>\n      <td>45022</td>\n      <td>0</td>\n    </tr>\n    <tr>\n      <th>29</th>\n      <td>29</td>\n      <td>2195000</td>\n      <td>53558</td>\n      <td>223756</td>\n      <td>37889</td>\n      <td>185867</td>\n      <td>103342</td>\n      <td>35883</td>\n      <td>46641</td>\n      <td>0</td>\n    </tr>\n  </tbody>\n</table>\n</div>"
     },
     "metadata": {},
     "execution_count": 48
    }
   ],
   "source": [
    "e1.df"
   ]
  },
  {
   "cell_type": "code",
   "execution_count": null,
   "metadata": {},
   "outputs": [],
   "source": []
  }
 ],
 "metadata": {
  "language_info": {
   "codemirror_mode": {
    "name": "ipython",
    "version": 3
   },
   "file_extension": ".py",
   "mimetype": "text/x-python",
   "name": "python",
   "nbconvert_exporter": "python",
   "pygments_lexer": "ipython3",
   "version": 3
  },
  "orig_nbformat": 2,
  "kernelspec": {
   "name": "python_defaultSpec_1599419414201",
   "display_name": "Python 3.7.6 64-bit ('py37': conda)"
  }
 },
 "nbformat": 4,
 "nbformat_minor": 2
}